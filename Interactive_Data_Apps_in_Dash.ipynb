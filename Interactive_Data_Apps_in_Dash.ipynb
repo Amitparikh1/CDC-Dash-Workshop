{
  "nbformat": 4,
  "nbformat_minor": 0,
  "metadata": {
    "colab": {
      "name": "Interactive Data Apps in Dash.ipynb",
      "provenance": [],
      "collapsed_sections": [
        "4PI9ZZ_W1G1u"
      ],
      "authorship_tag": "ABX9TyNFG9XNILM5E7crphVFZuqr",
      "include_colab_link": true
    },
    "kernelspec": {
      "name": "python3",
      "display_name": "Python 3"
    },
    "language_info": {
      "name": "python"
    }
  },
  "cells": [
    {
      "cell_type": "markdown",
      "metadata": {
        "id": "view-in-github",
        "colab_type": "text"
      },
      "source": [
        "<a href=\"https://colab.research.google.com/github/Amitparikh1/CDC-Dash-Workshop/blob/main/Interactive_Data_Apps_in_Dash.ipynb\" target=\"_parent\"><img src=\"https://colab.research.google.com/assets/colab-badge.svg\" alt=\"Open In Colab\"/></a>"
      ]
    },
    {
      "cell_type": "markdown",
      "metadata": {
        "id": "-KYTFWU0yysY"
      },
      "source": [
        "# **Interactive Data Apps in Dash**"
      ]
    },
    {
      "cell_type": "markdown",
      "metadata": {
        "id": "fcxsmsnEY_e8"
      },
      "source": [
        "Github Link: https://github.com/Amitparikh1/CDC-Dash-Workshop"
      ]
    },
    {
      "cell_type": "markdown",
      "metadata": {
        "id": "pc0GaGbkzMEv"
      },
      "source": [
        "## Attendance Form"
      ]
    },
    {
      "cell_type": "markdown",
      "metadata": {
        "id": "--lOkMPKzmLu"
      },
      "source": [
        "https://forms.gle/htBzaYRSUs23kgLBA"
      ]
    },
    {
      "cell_type": "markdown",
      "metadata": {
        "id": "kqX3qdx4zrrW"
      },
      "source": [
        "## Introduction\n",
        "\n",
        "### What is Dash?\n",
        "Dash is a Python framework created by Plotly that makes it fast and easy to create interactive web applications.\n",
        "\n",
        "It's built on top of: \n",
        "\n",
        "\n",
        "*   Flask\n",
        "*   Plotly\n",
        "*   React\n",
        "\n",
        "Don't need to know HTML, CSS (kind-of), Javascript. **Only Python!**\n",
        "\n",
        "### Why use Dash?\n",
        "Just because Dash is easy, doesn't mean it's not powerful. Dash is used to create production grade applications by many businesses including Tesla, S&P Global, Cisco and more. \n",
        "[Cool uses of Dash.](https://medium.com/plotly/7-new-dash-apps-made-by-the-dash-community-196998112ce3)\n",
        "\n",
        "\n",
        "\n",
        "\n",
        "\n",
        "\n",
        "\n"
      ]
    },
    {
      "cell_type": "markdown",
      "metadata": {
        "id": "P5M7pWJ94Mld"
      },
      "source": [
        "## Getting Started\n",
        "\n",
        "There are two main parts of a Dash App:\n",
        "\n",
        "\n",
        "1.   Layout\n",
        "2.   Callback\n",
        "\n",
        "### Layout\n",
        "The Layout defines how the app looks and how it can be interacted with. It basically says what elements will be on the page (graphs, dropdowns, headers etc.)\n",
        "There are two types of Layout components: \n",
        "\n",
        "1.   [**Dash HTML Components**](https://dash.plotly.com/dash-html-components) - allow us to create HTML components like headings, images, paragraphs etc. in Python\n",
        "2.   [**Dash Core Components** ](https://dash.plotly.com/dash-core-components)- allow us to create graphs, dropdowns, sliders, etc. \n",
        "\n",
        "### Callback\n",
        "A function that allows us to make components interactive.\n",
        "Callback function takes in Input, Output, and/or State arguments.\n",
        "\n",
        "\n",
        "*   Input \n",
        "    *  Defines components who will trigger the callback function to fire when changed.\n",
        "    * component_id: The id of the input component in the Layout\n",
        "    * component_property: The property in the input component that we are watching for. \n",
        "*   State\n",
        "    *  Defines components that read input from the Layout but won't fire the callback function when changed.\n",
        "    * Takes in component_id and component_property like Input\n",
        "*   Output\n",
        "    *  Defines components in the Layout that will be updated when the callback function is returned.\n",
        "    * Takes in component_id and component_property like Input\n",
        "\n",
        "\n",
        "\n",
        "\n",
        "\n",
        "\n"
      ]
    },
    {
      "cell_type": "markdown",
      "metadata": {
        "id": "Pgv8_3ZTy4xL"
      },
      "source": [
        "### Import Packages"
      ]
    },
    {
      "cell_type": "code",
      "metadata": {
        "id": "WRsnjO6C-N1P"
      },
      "source": [
        "# Using Jupyter Dash because we're running out of a Colab notebook\n",
        "!pip install -q jupyter-dash\n",
        "# Imports\n",
        "import pandas as pd\n",
        "import plotly\n",
        "import matplotlib.pyplot as plt\n",
        "from plotly import graph_objects as go\n",
        "import plotly.express as px\n",
        "# Jupyter Dash Imports\n",
        "from jupyter_dash import JupyterDash\n",
        "import dash_core_components as dcc\n",
        "import dash_html_components as html\n",
        "from dash.dependencies import Input, Output\n",
        "import dash_table"
      ],
      "execution_count": null,
      "outputs": []
    },
    {
      "cell_type": "markdown",
      "metadata": {
        "id": "53qpaz3-y_ZW"
      },
      "source": [
        "### Read in Data"
      ]
    },
    {
      "cell_type": "code",
      "metadata": {
        "id": "_aR7rGSDmipv",
        "colab": {
          "base_uri": "https://localhost:8080/"
        },
        "outputId": "c395d958-9ba8-4a36-c837-1799d9de8610"
      },
      "source": [
        "# Read in a data set to dispaly in our interactive app\n",
        "df_master = pd.read_csv('https://raw.githubusercontent.com/dhavalpotdar/Gapminder-World-Data-Analysis/master/data/master.csv')\n",
        "# Check for nan values\n",
        "print(df_master.info())\n",
        "# Get rid of columns with nan values\n",
        "df = df_master[['country', 'year', 'gdp_pc', 'life_exp_yrs', 'youth_empl_rate', 'pop_density']]\n",
        "# Dictionary of col names to readable names \n",
        "col_names = {\n",
        "    'gdp_pc': 'GDP Per Capita', \n",
        "    'life_exp_yrs': 'Life Expectancy (years)', \n",
        "    'youth_empl_rate': 'Youth Employment Rate', \n",
        "    'pop_density': 'Population Density'\n",
        "}"
      ],
      "execution_count": 2,
      "outputs": [
        {
          "output_type": "stream",
          "name": "stdout",
          "text": [
            "<class 'pandas.core.frame.DataFrame'>\n",
            "RangeIndex: 3066 entries, 0 to 3065\n",
            "Data columns (total 9 columns):\n",
            " #   Column                Non-Null Count  Dtype  \n",
            "---  ------                --------------  -----  \n",
            " 0   country               3066 non-null   object \n",
            " 1   year                  3066 non-null   int64  \n",
            " 2   literacy_rate         443 non-null    float64\n",
            " 3   gdp_pc                3066 non-null   int64  \n",
            " 4   life_exp_yrs          3066 non-null   float64\n",
            " 5   youth_empl_rate       3066 non-null   float64\n",
            " 6   percent_forest_cover  3012 non-null   float64\n",
            " 7   hdi                   2758 non-null   float64\n",
            " 8   pop_density           3066 non-null   float64\n",
            "dtypes: float64(6), int64(2), object(1)\n",
            "memory usage: 215.7+ KB\n",
            "None\n"
          ]
        }
      ]
    },
    {
      "cell_type": "markdown",
      "metadata": {
        "id": "Qzrn1ppdzMUQ"
      },
      "source": [
        "### Create a Static Page"
      ]
    },
    {
      "cell_type": "code",
      "metadata": {
        "id": "LNSDFVNNtYYh"
      },
      "source": [
        "# Create a base plot to display without any interactivity\n",
        "# The plot will be a timeseries of the life expectancy in the US \n",
        "df_base = df[df['country'] == \"India\"]\n",
        "fig = px.line(data_frame=df_base, x='year', y='life_exp_yrs', title=\"Average Life Expectancy in India (1991-2011)\")\n",
        "fig"
      ],
      "execution_count": null,
      "outputs": []
    },
    {
      "cell_type": "code",
      "metadata": {
        "id": "guph29Ddd5_j"
      },
      "source": [
        "# Build App\n",
        "app = JupyterDash(__name__)\n",
        "\n",
        "# App Layout\n",
        "app.layout = html.Div([\n",
        "    # A Dash HTML Component\n",
        "    html.H1(\"Welcome to CDC!\", style={'text-align':'center'}), \n",
        "    # A Dash Core Component\n",
        "    dcc.Graph(figure=fig)\n",
        "    ])\n",
        "\n",
        "# Run app\n",
        "app.run_server(mode='external', port='8070')"
      ],
      "execution_count": null,
      "outputs": []
    },
    {
      "cell_type": "markdown",
      "metadata": {
        "id": "0nGBAhHizSC3"
      },
      "source": [
        "### Make Our Page Interactive"
      ]
    },
    {
      "cell_type": "code",
      "metadata": {
        "id": "HZi0bOy74_V-"
      },
      "source": [
        "# What data do we want to display interactively?\n",
        "df.head()"
      ],
      "execution_count": null,
      "outputs": []
    },
    {
      "cell_type": "code",
      "metadata": {
        "id": "xIzi_M4xlB-K"
      },
      "source": [
        "# Build App\n",
        "app = JupyterDash(__name__)\n",
        "\n",
        "# App Layout \n",
        "app.layout = html.Div([\n",
        "    # A Dash HTML Component\n",
        "    html.H1(\"Welcome to CDC!\", style={'text-align':'center'}), \n",
        "    # Dash Core Component\n",
        "    dcc.Graph(id=\"timeseries_plot\"),\n",
        "    html.Label(\n",
        "        [\"Select a metric to show:\",\n",
        "        # Dropdown to specify metric \n",
        "        dcc.Dropdown(\n",
        "            # ID to reference component by\n",
        "            id=\"metric_selector\",\n",
        "            # Options in our dropdown, we'll use our col_names dictionary from above\n",
        "            options=[{'label': col_names[col], 'value':col} for col in col_names.keys()], \n",
        "            # Default value to start at\n",
        "            value='life_exp_yrs',\n",
        "        )   \n",
        "    ]),\n",
        "    # Label for multi-select dropdown\n",
        "    html.Label(\n",
        "        [\"Select countries to display: \", \n",
        "        # Multi-select Dropdown to select countries to display\n",
        "        dcc.Dropdown(\n",
        "            # ID to reference component by\n",
        "            id=\"country_selector\",\n",
        "            # Multi-select Dropdown\n",
        "            multi=True, \n",
        "            # Set options to a dictionary of every country in the dataset \n",
        "            options=[{\"label\": country, \"value\": country} for country in df['country'].unique()], \n",
        "            # Default Value\n",
        "            value=[\"India\"], \n",
        "        )       \n",
        "    ])\n",
        "    ])\n",
        "\n",
        "# Define callback to update graph\n",
        "@app.callback(\n",
        "    Output(component_id=\"timeseries_plot\", component_property=\"figure\"),\n",
        "    [Input(component_id=\"metric_selector\", component_property=\"value\"), Input(component_id=\"country_selector\", component_property=\"value\")]\n",
        ")\n",
        "def update_figure(selected_metric, selected_countries):\n",
        "  print(selected_metric)\n",
        "  # Filter data frame to only selected countries\n",
        "  df_filtered = df[df['country'].isin(selected_countries)]\n",
        "  # Create graph with filtered df and specified metric\n",
        "  fig = px.line(data_frame=df_filtered, x='year', y=selected_metric, color=\"country\", title=f'{col_names[selected_metric]} in selected countries (1991-2011)')\n",
        "  # Return figure to the callback functions specified Output\n",
        "  return fig\n",
        "\n",
        "# Run app\n",
        "app.run_server(mode='external', port='8071', debug=False)"
      ],
      "execution_count": null,
      "outputs": []
    },
    {
      "cell_type": "markdown",
      "metadata": {
        "id": "4PI9ZZ_W1G1u"
      },
      "source": [
        "### CHALLENGE: Add a RangeSlider to Change Range of Years"
      ]
    },
    {
      "cell_type": "markdown",
      "metadata": {
        "id": "dqG3gdmd1bPt"
      },
      "source": [
        "**Starter Code to Try on Your Own**\n"
      ]
    },
    {
      "cell_type": "code",
      "metadata": {
        "id": "_naIKMVR1TEP"
      },
      "source": [
        "# Build App\n",
        "app = JupyterDash(__name__)\n",
        "\n",
        "# App Layout \n",
        "app.layout = html.Div([\n",
        "    # A Dash HTML Component\n",
        "    html.H1(\"Welcome to CDC!\", style={'text-align':'center'}), \n",
        "    # Dash Core Component\n",
        "    dcc.Graph(id=\"timeseries_plot\"),\n",
        "    html.Label(\n",
        "        [\"Select a metric to show:\",\n",
        "        # Dropdown to specify metric \n",
        "        dcc.Dropdown(\n",
        "            # ID to reference component by\n",
        "            id=\"metric_selector\",\n",
        "            # Options in our dropdown, we'll use our col_names dictionary from above\n",
        "            options=[{'label': col_names[col], 'value':col} for col in col_names.keys()], \n",
        "            # Default value to start at\n",
        "            value='life_exp_yrs',\n",
        "        )   \n",
        "    ]),\n",
        "    # Label for multi-select dropdown\n",
        "    html.Label(\n",
        "        [\"Select countries to display: \", \n",
        "        # Multi-select Dropdown to select countries to display\n",
        "        dcc.Dropdown(\n",
        "            # ID to reference component by\n",
        "            id=\"country_selector\",\n",
        "            # Multi-select Dropdown\n",
        "            multi=True, \n",
        "            # Set options to a dictionary of every country in the dataset \n",
        "            options=[{\"label\": country, \"value\": country} for country in df['country'].unique()], \n",
        "            # Default Value\n",
        "            value=[\"India\"], \n",
        "        )       \n",
        "    ])\n",
        "    ])\n",
        "\n",
        "# Define callback to update graph\n",
        "@app.callback(\n",
        "    Output(component_id=\"timeseries_plot\", component_property=\"figure\"),\n",
        "    [Input(component_id=\"metric_selector\", component_property=\"value\"), Input(component_id=\"country_selector\", component_property=\"value\")]\n",
        ")\n",
        "def update_figure(selected_metric, selected_countries):\n",
        "  # Filter data frame to only selected countries\n",
        "  df_filtered = df[df['country'].isin(selected_countries)]\n",
        "  # Create graph with filtered df and specified metric\n",
        "  fig = px.line(data_frame=df_filtered, x='year', y=selected_metric, color=\"country\", title=f'{col_names[selected_metric]} in selected countries (1991-2011)')\n",
        "  # Return figure to the callback functions specified Output\n",
        "  return fig\n",
        "\n",
        "# Run app\n",
        "app.run_server(mode='external', port='8072')"
      ],
      "execution_count": null,
      "outputs": []
    },
    {
      "cell_type": "markdown",
      "metadata": {
        "id": "hxHOmMTG1nkh"
      },
      "source": [
        "**Sample Solution**"
      ]
    },
    {
      "cell_type": "code",
      "metadata": {
        "id": "1feTN0aq1rL3"
      },
      "source": [
        "#@title Sample RangeSlider Solution\n",
        "# Build App\n",
        "app = JupyterDash(__name__)\n",
        "\n",
        "# App Layout \n",
        "app.layout = html.Div([\n",
        "    # A Dash HTML Component\n",
        "    html.H1(\"Welcome to CDC!\", style={'text-align':'center'}), \n",
        "    # Dash Core Component\n",
        "    dcc.Graph(id=\"timeseries_plot\"),\n",
        "    html.Label(\n",
        "        [\"Select a metric to show:\",\n",
        "        # Dropdown to specify metric \n",
        "        dcc.Dropdown(\n",
        "            # ID to reference component by\n",
        "            id=\"metric_selector\",\n",
        "            # Options in our dropdown, we'll use our col_names dictionary from above\n",
        "            options=[{'label': col_names[col], 'value':col} for col in col_names.keys()], \n",
        "            # Default value to start at\n",
        "            value='life_exp_yrs',\n",
        "        )   \n",
        "    ]),\n",
        "    # Label for multi-select dropdown\n",
        "    html.Label(\n",
        "        [\"Select countries to display: \", \n",
        "        # Multi-select Dropdown to select countries to display\n",
        "        dcc.Dropdown(\n",
        "            # ID to reference component by\n",
        "            id=\"country_selector\",\n",
        "            # Multi-select Dropdown\n",
        "            multi=True, \n",
        "            # Set options to a dictionary of every country in the dataset \n",
        "            options=[{\"label\": country, \"value\": country} for country in df['country'].unique()], \n",
        "            # Default Value\n",
        "            value=[\"India\"], \n",
        "        )       \n",
        "    ]),\n",
        "    # Label for slider\n",
        "    html.Label(\n",
        "        [\"Choose a range of years to display:\", \n",
        "        # RangeSlider to specify range of years to display\n",
        "        dcc.RangeSlider(\n",
        "          id='year_slider',\n",
        "          min=df['year'].min(),\n",
        "          max=df['year'].max(),\n",
        "          step=1,\n",
        "          value=[df['year'].min(), df['year'].max()],\n",
        "          marks={x:str(x) for x in range(df['year'].min(), df['year'].max() + 1)}\n",
        "      )\n",
        "        ]\n",
        "    )\n",
        "    ])\n",
        "\n",
        "# Define callback to update graph\n",
        "@app.callback(\n",
        "    Output(component_id=\"timeseries_plot\", component_property=\"figure\"),\n",
        "    [Input(component_id=\"metric_selector\", component_property=\"value\"), Input(component_id=\"country_selector\", component_property=\"value\"), Input(component_id=\"year_slider\", component_property=\"value\")]\n",
        ")\n",
        "def update_figure(selected_metric, selected_countries, year_range):\n",
        "  # Get min and max year from year_range\n",
        "  min_year = min(year_range)\n",
        "  max_year = max(year_range)\n",
        "  # Filter data frame to year range\n",
        "  df_filtered = df[(df['year'] >= min_year) & (df['year'] <= max_year)]\n",
        "  # Filter data frame to only selected countries\n",
        "  df_filtered = df_filtered[df_filtered['country'].isin(selected_countries)]\n",
        "  # Create graph with filtered df and specified metric\n",
        "  fig = px.line(data_frame=df_filtered, x='year', y=selected_metric, color=\"country\", title=f'{col_names[selected_metric]} in selected countries (1991-2011)')\n",
        "  # Return figure to the callback functions specified Output\n",
        "  return fig\n",
        "\n",
        "# Run app\n",
        "app.run_server(mode='external', port='8073')"
      ],
      "execution_count": null,
      "outputs": []
    }
  ]
}